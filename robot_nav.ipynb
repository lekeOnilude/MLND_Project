{
  "nbformat": 4,
  "nbformat_minor": 0,
  "metadata": {
    "colab": {
      "name": "Robot_Nav.ipynb",
      "version": "0.3.2",
      "provenance": [],
      "collapsed_sections": []
    },
    "kernelspec": {
      "name": "python3",
      "display_name": "Python 3"
    },
    "accelerator": "GPU"
  },
  "cells": [
    {
      "cell_type": "code",
      "metadata": {
        "id": "0OXFYk8U6yCE",
        "colab_type": "code",
        "colab": {}
      },
      "source": [
        "# import useful packages\n",
        "\n",
        "import pandas as pd\n",
        "import numpy as np\n",
        "import matplotlib.pyplot as plt\n",
        "import seaborn as sns\n",
        "\n",
        "from keras.layers import LSTM,Input,Dense,SpatialDropout1D,Dropout,CuDNNLSTM\n",
        "from keras.layers import BatchNormalization, Activation, Bidirectional, concatenate\n",
        "from keras.models import Model\n",
        "from keras.utils import to_categorical\n",
        "from keras.optimizers import Adam\n",
        "from keras import backend as K \n",
        "from sklearn.preprocessing import LabelEncoder\n",
        "\n"
      ],
      "execution_count": 0,
      "outputs": []
    },
    {
      "cell_type": "code",
      "metadata": {
        "id": "mISs-gUM2WSC",
        "colab_type": "code",
        "outputId": "13cc5ced-5468-4ce7-834c-3a5ec0eceb39",
        "colab": {
          "base_uri": "https://localhost:8080/",
          "height": 122
        }
      },
      "source": [
        "# Mount google drive for easy access of dataset\n",
        "from google.colab import drive\n",
        "drive.mount('/content/gdrive')"
      ],
      "execution_count": 2,
      "outputs": [
        {
          "output_type": "stream",
          "text": [
            "Go to this URL in a browser: https://accounts.google.com/o/oauth2/auth?client_id=947318989803-6bn6qk8qdgf4n4g3pfee6491hc0brc4i.apps.googleusercontent.com&redirect_uri=urn%3Aietf%3Awg%3Aoauth%3A2.0%3Aoob&scope=email%20https%3A%2F%2Fwww.googleapis.com%2Fauth%2Fdocs.test%20https%3A%2F%2Fwww.googleapis.com%2Fauth%2Fdrive%20https%3A%2F%2Fwww.googleapis.com%2Fauth%2Fdrive.photos.readonly%20https%3A%2F%2Fwww.googleapis.com%2Fauth%2Fpeopleapi.readonly&response_type=code\n",
            "\n",
            "Enter your authorization code:\n",
            "··········\n",
            "Mounted at /content/gdrive\n"
          ],
          "name": "stdout"
        }
      ]
    },
    {
      "cell_type": "code",
      "metadata": {
        "id": "gu5teTe52qQg",
        "colab_type": "code",
        "outputId": "23335ce8-3a58-44f3-8aef-3a3389d49ebb",
        "colab": {
          "base_uri": "https://localhost:8080/",
          "height": 224
        }
      },
      "source": [
        "# Converting file from CSV to Pandas\n",
        "\n",
        "X_train = pd.read_csv('gdrive/My Drive/career-con-2019/X_train.csv')\n",
        "X_test = pd.read_csv('gdrive/My Drive/career-con-2019/X_test.csv')\n",
        "y_train = pd.read_csv('gdrive/My Drive/career-con-2019/y_train.csv')\n",
        "\n",
        "# Display the first five rows\n",
        "X_train.head()"
      ],
      "execution_count": 3,
      "outputs": [
        {
          "output_type": "execute_result",
          "data": {
            "text/html": [
              "<div>\n",
              "<style scoped>\n",
              "    .dataframe tbody tr th:only-of-type {\n",
              "        vertical-align: middle;\n",
              "    }\n",
              "\n",
              "    .dataframe tbody tr th {\n",
              "        vertical-align: top;\n",
              "    }\n",
              "\n",
              "    .dataframe thead th {\n",
              "        text-align: right;\n",
              "    }\n",
              "</style>\n",
              "<table border=\"1\" class=\"dataframe\">\n",
              "  <thead>\n",
              "    <tr style=\"text-align: right;\">\n",
              "      <th></th>\n",
              "      <th>row_id</th>\n",
              "      <th>series_id</th>\n",
              "      <th>measurement_number</th>\n",
              "      <th>orientation_X</th>\n",
              "      <th>orientation_Y</th>\n",
              "      <th>orientation_Z</th>\n",
              "      <th>orientation_W</th>\n",
              "      <th>angular_velocity_X</th>\n",
              "      <th>angular_velocity_Y</th>\n",
              "      <th>angular_velocity_Z</th>\n",
              "      <th>linear_acceleration_X</th>\n",
              "      <th>linear_acceleration_Y</th>\n",
              "      <th>linear_acceleration_Z</th>\n",
              "    </tr>\n",
              "  </thead>\n",
              "  <tbody>\n",
              "    <tr>\n",
              "      <th>0</th>\n",
              "      <td>0_0</td>\n",
              "      <td>0</td>\n",
              "      <td>0</td>\n",
              "      <td>-0.75853</td>\n",
              "      <td>-0.63435</td>\n",
              "      <td>-0.10488</td>\n",
              "      <td>-0.10597</td>\n",
              "      <td>0.107650</td>\n",
              "      <td>0.017561</td>\n",
              "      <td>0.000767</td>\n",
              "      <td>-0.74857</td>\n",
              "      <td>2.1030</td>\n",
              "      <td>-9.7532</td>\n",
              "    </tr>\n",
              "    <tr>\n",
              "      <th>1</th>\n",
              "      <td>0_1</td>\n",
              "      <td>0</td>\n",
              "      <td>1</td>\n",
              "      <td>-0.75853</td>\n",
              "      <td>-0.63434</td>\n",
              "      <td>-0.10490</td>\n",
              "      <td>-0.10600</td>\n",
              "      <td>0.067851</td>\n",
              "      <td>0.029939</td>\n",
              "      <td>0.003385</td>\n",
              "      <td>0.33995</td>\n",
              "      <td>1.5064</td>\n",
              "      <td>-9.4128</td>\n",
              "    </tr>\n",
              "    <tr>\n",
              "      <th>2</th>\n",
              "      <td>0_2</td>\n",
              "      <td>0</td>\n",
              "      <td>2</td>\n",
              "      <td>-0.75853</td>\n",
              "      <td>-0.63435</td>\n",
              "      <td>-0.10492</td>\n",
              "      <td>-0.10597</td>\n",
              "      <td>0.007275</td>\n",
              "      <td>0.028934</td>\n",
              "      <td>-0.005978</td>\n",
              "      <td>-0.26429</td>\n",
              "      <td>1.5922</td>\n",
              "      <td>-8.7267</td>\n",
              "    </tr>\n",
              "    <tr>\n",
              "      <th>3</th>\n",
              "      <td>0_3</td>\n",
              "      <td>0</td>\n",
              "      <td>3</td>\n",
              "      <td>-0.75852</td>\n",
              "      <td>-0.63436</td>\n",
              "      <td>-0.10495</td>\n",
              "      <td>-0.10597</td>\n",
              "      <td>-0.013053</td>\n",
              "      <td>0.019448</td>\n",
              "      <td>-0.008974</td>\n",
              "      <td>0.42684</td>\n",
              "      <td>1.0993</td>\n",
              "      <td>-10.0960</td>\n",
              "    </tr>\n",
              "    <tr>\n",
              "      <th>4</th>\n",
              "      <td>0_4</td>\n",
              "      <td>0</td>\n",
              "      <td>4</td>\n",
              "      <td>-0.75852</td>\n",
              "      <td>-0.63435</td>\n",
              "      <td>-0.10495</td>\n",
              "      <td>-0.10596</td>\n",
              "      <td>0.005135</td>\n",
              "      <td>0.007652</td>\n",
              "      <td>0.005245</td>\n",
              "      <td>-0.50969</td>\n",
              "      <td>1.4689</td>\n",
              "      <td>-10.4410</td>\n",
              "    </tr>\n",
              "  </tbody>\n",
              "</table>\n",
              "</div>"
            ],
            "text/plain": [
              "  row_id  series_id  ...  linear_acceleration_Y  linear_acceleration_Z\n",
              "0    0_0          0  ...                 2.1030                -9.7532\n",
              "1    0_1          0  ...                 1.5064                -9.4128\n",
              "2    0_2          0  ...                 1.5922                -8.7267\n",
              "3    0_3          0  ...                 1.0993               -10.0960\n",
              "4    0_4          0  ...                 1.4689               -10.4410\n",
              "\n",
              "[5 rows x 13 columns]"
            ]
          },
          "metadata": {
            "tags": []
          },
          "execution_count": 3
        }
      ]
    },
    {
      "cell_type": "code",
      "metadata": {
        "id": "i2RCvubH8QCo",
        "colab_type": "code",
        "outputId": "33b51f5a-9912-4386-b877-b9d4b95c5066",
        "colab": {
          "base_uri": "https://localhost:8080/",
          "height": 323
        }
      },
      "source": [
        "# basic information about types of dataset within each column\n",
        "X_train.info()"
      ],
      "execution_count": 4,
      "outputs": [
        {
          "output_type": "stream",
          "text": [
            "<class 'pandas.core.frame.DataFrame'>\n",
            "RangeIndex: 487680 entries, 0 to 487679\n",
            "Data columns (total 13 columns):\n",
            "row_id                   487680 non-null object\n",
            "series_id                487680 non-null int64\n",
            "measurement_number       487680 non-null int64\n",
            "orientation_X            487680 non-null float64\n",
            "orientation_Y            487680 non-null float64\n",
            "orientation_Z            487680 non-null float64\n",
            "orientation_W            487680 non-null float64\n",
            "angular_velocity_X       487680 non-null float64\n",
            "angular_velocity_Y       487680 non-null float64\n",
            "angular_velocity_Z       487680 non-null float64\n",
            "linear_acceleration_X    487680 non-null float64\n",
            "linear_acceleration_Y    487680 non-null float64\n",
            "linear_acceleration_Z    487680 non-null float64\n",
            "dtypes: float64(10), int64(2), object(1)\n",
            "memory usage: 48.4+ MB\n"
          ],
          "name": "stdout"
        }
      ]
    },
    {
      "cell_type": "code",
      "metadata": {
        "id": "6Qlz-_H37cqX",
        "colab_type": "code",
        "colab": {
          "base_uri": "https://localhost:8080/",
          "height": 317
        },
        "outputId": "16d91d9e-d451-4e21-ac92-d9b01abe6f52"
      },
      "source": [
        "# Display mean, median, SD, max and min in each column\n",
        "X_train.describe()"
      ],
      "execution_count": 5,
      "outputs": [
        {
          "output_type": "execute_result",
          "data": {
            "text/html": [
              "<div>\n",
              "<style scoped>\n",
              "    .dataframe tbody tr th:only-of-type {\n",
              "        vertical-align: middle;\n",
              "    }\n",
              "\n",
              "    .dataframe tbody tr th {\n",
              "        vertical-align: top;\n",
              "    }\n",
              "\n",
              "    .dataframe thead th {\n",
              "        text-align: right;\n",
              "    }\n",
              "</style>\n",
              "<table border=\"1\" class=\"dataframe\">\n",
              "  <thead>\n",
              "    <tr style=\"text-align: right;\">\n",
              "      <th></th>\n",
              "      <th>series_id</th>\n",
              "      <th>measurement_number</th>\n",
              "      <th>orientation_X</th>\n",
              "      <th>orientation_Y</th>\n",
              "      <th>orientation_Z</th>\n",
              "      <th>orientation_W</th>\n",
              "      <th>angular_velocity_X</th>\n",
              "      <th>angular_velocity_Y</th>\n",
              "      <th>angular_velocity_Z</th>\n",
              "      <th>linear_acceleration_X</th>\n",
              "      <th>linear_acceleration_Y</th>\n",
              "      <th>linear_acceleration_Z</th>\n",
              "    </tr>\n",
              "  </thead>\n",
              "  <tbody>\n",
              "    <tr>\n",
              "      <th>count</th>\n",
              "      <td>487680.000000</td>\n",
              "      <td>487680.000000</td>\n",
              "      <td>487680.000000</td>\n",
              "      <td>487680.000000</td>\n",
              "      <td>487680.000000</td>\n",
              "      <td>487680.000000</td>\n",
              "      <td>487680.000000</td>\n",
              "      <td>487680.000000</td>\n",
              "      <td>487680.000000</td>\n",
              "      <td>487680.000000</td>\n",
              "      <td>487680.000000</td>\n",
              "      <td>487680.000000</td>\n",
              "    </tr>\n",
              "    <tr>\n",
              "      <th>mean</th>\n",
              "      <td>1904.500000</td>\n",
              "      <td>63.500000</td>\n",
              "      <td>-0.018050</td>\n",
              "      <td>0.075062</td>\n",
              "      <td>0.012458</td>\n",
              "      <td>-0.003804</td>\n",
              "      <td>0.000178</td>\n",
              "      <td>0.008338</td>\n",
              "      <td>-0.019184</td>\n",
              "      <td>0.129281</td>\n",
              "      <td>2.886468</td>\n",
              "      <td>-9.364886</td>\n",
              "    </tr>\n",
              "    <tr>\n",
              "      <th>std</th>\n",
              "      <td>1099.853353</td>\n",
              "      <td>36.949327</td>\n",
              "      <td>0.685696</td>\n",
              "      <td>0.708226</td>\n",
              "      <td>0.105972</td>\n",
              "      <td>0.104299</td>\n",
              "      <td>0.117764</td>\n",
              "      <td>0.088677</td>\n",
              "      <td>0.229153</td>\n",
              "      <td>1.870600</td>\n",
              "      <td>2.140067</td>\n",
              "      <td>2.845341</td>\n",
              "    </tr>\n",
              "    <tr>\n",
              "      <th>min</th>\n",
              "      <td>0.000000</td>\n",
              "      <td>0.000000</td>\n",
              "      <td>-0.989100</td>\n",
              "      <td>-0.989650</td>\n",
              "      <td>-0.162830</td>\n",
              "      <td>-0.156620</td>\n",
              "      <td>-2.371000</td>\n",
              "      <td>-0.927860</td>\n",
              "      <td>-1.268800</td>\n",
              "      <td>-36.067000</td>\n",
              "      <td>-121.490000</td>\n",
              "      <td>-75.386000</td>\n",
              "    </tr>\n",
              "    <tr>\n",
              "      <th>25%</th>\n",
              "      <td>952.000000</td>\n",
              "      <td>31.750000</td>\n",
              "      <td>-0.705120</td>\n",
              "      <td>-0.688980</td>\n",
              "      <td>-0.089466</td>\n",
              "      <td>-0.106060</td>\n",
              "      <td>-0.040752</td>\n",
              "      <td>-0.033191</td>\n",
              "      <td>-0.090743</td>\n",
              "      <td>-0.530833</td>\n",
              "      <td>1.957900</td>\n",
              "      <td>-10.193000</td>\n",
              "    </tr>\n",
              "    <tr>\n",
              "      <th>50%</th>\n",
              "      <td>1904.500000</td>\n",
              "      <td>63.500000</td>\n",
              "      <td>-0.105960</td>\n",
              "      <td>0.237855</td>\n",
              "      <td>0.031949</td>\n",
              "      <td>-0.018704</td>\n",
              "      <td>0.000084</td>\n",
              "      <td>0.005412</td>\n",
              "      <td>-0.005335</td>\n",
              "      <td>0.124980</td>\n",
              "      <td>2.879600</td>\n",
              "      <td>-9.365300</td>\n",
              "    </tr>\n",
              "    <tr>\n",
              "      <th>75%</th>\n",
              "      <td>2857.000000</td>\n",
              "      <td>95.250000</td>\n",
              "      <td>0.651803</td>\n",
              "      <td>0.809550</td>\n",
              "      <td>0.122870</td>\n",
              "      <td>0.097215</td>\n",
              "      <td>0.040527</td>\n",
              "      <td>0.048068</td>\n",
              "      <td>0.064604</td>\n",
              "      <td>0.792263</td>\n",
              "      <td>3.798800</td>\n",
              "      <td>-8.522700</td>\n",
              "    </tr>\n",
              "    <tr>\n",
              "      <th>max</th>\n",
              "      <td>3809.000000</td>\n",
              "      <td>127.000000</td>\n",
              "      <td>0.989100</td>\n",
              "      <td>0.988980</td>\n",
              "      <td>0.155710</td>\n",
              "      <td>0.154770</td>\n",
              "      <td>2.282200</td>\n",
              "      <td>1.079100</td>\n",
              "      <td>1.387300</td>\n",
              "      <td>36.797000</td>\n",
              "      <td>73.008000</td>\n",
              "      <td>65.839000</td>\n",
              "    </tr>\n",
              "  </tbody>\n",
              "</table>\n",
              "</div>"
            ],
            "text/plain": [
              "           series_id  ...  linear_acceleration_Z\n",
              "count  487680.000000  ...          487680.000000\n",
              "mean     1904.500000  ...              -9.364886\n",
              "std      1099.853353  ...               2.845341\n",
              "min         0.000000  ...             -75.386000\n",
              "25%       952.000000  ...             -10.193000\n",
              "50%      1904.500000  ...              -9.365300\n",
              "75%      2857.000000  ...              -8.522700\n",
              "max      3809.000000  ...              65.839000\n",
              "\n",
              "[8 rows x 12 columns]"
            ]
          },
          "metadata": {
            "tags": []
          },
          "execution_count": 5
        }
      ]
    },
    {
      "cell_type": "code",
      "metadata": {
        "id": "zzIKHEQw6-9T",
        "colab_type": "code",
        "colab": {
          "base_uri": "https://localhost:8080/",
          "height": 389
        },
        "outputId": "eeb44d68-13ba-4901-a9db-967141a4faa5"
      },
      "source": [
        "# plot the correlation graph\n",
        "corr = X_train.corr()\n",
        "sns.heatmap(corr, \n",
        "            xticklabels=corr.columns.values,\n",
        "            yticklabels=corr.columns.values)"
      ],
      "execution_count": 6,
      "outputs": [
        {
          "output_type": "execute_result",
          "data": {
            "text/plain": [
              "<matplotlib.axes._subplots.AxesSubplot at 0x7fd5863f5ba8>"
            ]
          },
          "metadata": {
            "tags": []
          },
          "execution_count": 6
        },
        {
          "output_type": "display_data",
          "data": {
            "image/png": "[encoded data removed]",
            "text/plain": [
              "<Figure size 432x288 with 2 Axes>"
            ]
          },
          "metadata": {
            "tags": []
          }
        }
      ]
    },
    {
      "cell_type": "code",
      "metadata": {
        "id": "j8S2-4DS8Z1-",
        "colab_type": "code",
        "outputId": "b8a1320f-daae-4564-ea1c-a2d2899a2e01",
        "colab": {
          "base_uri": "https://localhost:8080/",
          "height": 153
        }
      },
      "source": [
        "y_train.info()"
      ],
      "execution_count": 7,
      "outputs": [
        {
          "output_type": "stream",
          "text": [
            "<class 'pandas.core.frame.DataFrame'>\n",
            "RangeIndex: 3810 entries, 0 to 3809\n",
            "Data columns (total 3 columns):\n",
            "series_id    3810 non-null int64\n",
            "group_id     3810 non-null int64\n",
            "surface      3810 non-null object\n",
            "dtypes: int64(2), object(1)\n",
            "memory usage: 89.4+ KB\n"
          ],
          "name": "stdout"
        }
      ]
    },
    {
      "cell_type": "code",
      "metadata": {
        "id": "VXM46e2WArqm",
        "colab_type": "code",
        "outputId": "1f6bc710-5ae5-487a-ad40-a595e2911f1c",
        "colab": {
          "base_uri": "https://localhost:8080/",
          "height": 359
        }
      },
      "source": [
        "# Display first 10 rows in y_train\n",
        "y_train.head(10)"
      ],
      "execution_count": 8,
      "outputs": [
        {
          "output_type": "execute_result",
          "data": {
            "text/html": [
              "<div>\n",
              "<style scoped>\n",
              "    .dataframe tbody tr th:only-of-type {\n",
              "        vertical-align: middle;\n",
              "    }\n",
              "\n",
              "    .dataframe tbody tr th {\n",
              "        vertical-align: top;\n",
              "    }\n",
              "\n",
              "    .dataframe thead th {\n",
              "        text-align: right;\n",
              "    }\n",
              "</style>\n",
              "<table border=\"1\" class=\"dataframe\">\n",
              "  <thead>\n",
              "    <tr style=\"text-align: right;\">\n",
              "      <th></th>\n",
              "      <th>series_id</th>\n",
              "      <th>group_id</th>\n",
              "      <th>surface</th>\n",
              "    </tr>\n",
              "  </thead>\n",
              "  <tbody>\n",
              "    <tr>\n",
              "      <th>0</th>\n",
              "      <td>0</td>\n",
              "      <td>13</td>\n",
              "      <td>fine_concrete</td>\n",
              "    </tr>\n",
              "    <tr>\n",
              "      <th>1</th>\n",
              "      <td>1</td>\n",
              "      <td>31</td>\n",
              "      <td>concrete</td>\n",
              "    </tr>\n",
              "    <tr>\n",
              "      <th>2</th>\n",
              "      <td>2</td>\n",
              "      <td>20</td>\n",
              "      <td>concrete</td>\n",
              "    </tr>\n",
              "    <tr>\n",
              "      <th>3</th>\n",
              "      <td>3</td>\n",
              "      <td>31</td>\n",
              "      <td>concrete</td>\n",
              "    </tr>\n",
              "    <tr>\n",
              "      <th>4</th>\n",
              "      <td>4</td>\n",
              "      <td>22</td>\n",
              "      <td>soft_tiles</td>\n",
              "    </tr>\n",
              "    <tr>\n",
              "      <th>5</th>\n",
              "      <td>5</td>\n",
              "      <td>1</td>\n",
              "      <td>tiled</td>\n",
              "    </tr>\n",
              "    <tr>\n",
              "      <th>6</th>\n",
              "      <td>6</td>\n",
              "      <td>34</td>\n",
              "      <td>soft_pvc</td>\n",
              "    </tr>\n",
              "    <tr>\n",
              "      <th>7</th>\n",
              "      <td>7</td>\n",
              "      <td>31</td>\n",
              "      <td>concrete</td>\n",
              "    </tr>\n",
              "    <tr>\n",
              "      <th>8</th>\n",
              "      <td>8</td>\n",
              "      <td>33</td>\n",
              "      <td>hard_tiles_large_space</td>\n",
              "    </tr>\n",
              "    <tr>\n",
              "      <th>9</th>\n",
              "      <td>9</td>\n",
              "      <td>11</td>\n",
              "      <td>tiled</td>\n",
              "    </tr>\n",
              "  </tbody>\n",
              "</table>\n",
              "</div>"
            ],
            "text/plain": [
              "   series_id  group_id                 surface\n",
              "0          0        13           fine_concrete\n",
              "1          1        31                concrete\n",
              "2          2        20                concrete\n",
              "3          3        31                concrete\n",
              "4          4        22              soft_tiles\n",
              "5          5         1                   tiled\n",
              "6          6        34                soft_pvc\n",
              "7          7        31                concrete\n",
              "8          8        33  hard_tiles_large_space\n",
              "9          9        11                   tiled"
            ]
          },
          "metadata": {
            "tags": []
          },
          "execution_count": 8
        }
      ]
    },
    {
      "cell_type": "code",
      "metadata": {
        "id": "HEq08Bi8euL5",
        "colab_type": "code",
        "outputId": "5d6c150c-ade8-487f-9ef8-ccae59cc3957",
        "colab": {
          "base_uri": "https://localhost:8080/",
          "height": 353
        }
      },
      "source": [
        "# Plot the target distribution\n",
        "plt.figure(figsize=(15, 5))\n",
        "sns.countplot(y_train['surface'])\n",
        "plt.title('Target distribution', size=15)\n",
        "plt.show()"
      ],
      "execution_count": 9,
      "outputs": [
        {
          "output_type": "display_data",
          "data": {
            "image/png": "[encoded data removed]",
            "text/plain": [
              "<Figure size 1080x360 with 1 Axes>"
            ]
          },
          "metadata": {
            "tags": []
          }
        }
      ]
    },
    {
      "cell_type": "code",
      "metadata": {
        "id": "8FB5o29PAzvR",
        "colab_type": "code",
        "colab": {}
      },
      "source": [
        "\n",
        "# Convert fron quat to eular\n",
        "def  quat_to_euler(X):\n",
        "  #roll\n",
        "  sinr_cosp = 2.0 * (X['orientation_W'] * X['orientation_X'] +\n",
        "                      X['orientation_Y'] * X['orientation_Z'])\n",
        "  cosr_cosp = 1.0 - 2.0 * (X['orientation_Y'] * X['orientation_Y'] +\n",
        "                      X['orientation_Z'] * X['orientation_Z'])\n",
        "  roll = np.arctan(np.array(sinr_cosp), np.array(cosr_cosp))\n",
        "\n",
        "\n",
        "  #Pitch\n",
        "  pitch = np.arcsin(np.array(2*(X['orientation_W']*X['orientation_Y'] -\n",
        "                                X['orientation_Z']*X['orientation_X'])))\n",
        "\n",
        "\n",
        "  #Yaw\n",
        "  siny_cosp = 2.0 * (X['orientation_W'] * X['orientation_Z'] +\n",
        "                      X['orientation_X'] * X['orientation_Y'])\n",
        "  cosy_cosp = 1.0 - 2.0 * (X['orientation_Y'] * X['orientation_Y'] +\n",
        "                      X['orientation_Z'] * X['orientation_Z'])\n",
        "  yaw = np.arctan(np.array(siny_cosp), np.array(cosy_cosp))\n",
        "\n",
        "  return np.array([roll, pitch, yaw])\n"
      ],
      "execution_count": 0,
      "outputs": []
    },
    {
      "cell_type": "code",
      "metadata": {
        "id": "MsDEwibaXYiQ",
        "colab_type": "code",
        "colab": {}
      },
      "source": [
        "euler_angle_train = quat_to_euler(X_train)\n",
        "euler_angle_test = quat_to_euler(X_test)"
      ],
      "execution_count": 0,
      "outputs": []
    },
    {
      "cell_type": "code",
      "metadata": {
        "id": "428yIAbVZTeP",
        "colab_type": "code",
        "outputId": "f1a0583e-2668-463f-feb7-4ef523b86cbf",
        "colab": {
          "base_uri": "https://localhost:8080/",
          "height": 224
        }
      },
      "source": [
        "X_train['roll'] = euler_angle_train[0]\n",
        "X_train['pitch'] = euler_angle_train[1]\n",
        "X_train['yaw'] = euler_angle_train[2]\n",
        "\n",
        "X_test['roll'] = euler_angle_test[0]\n",
        "X_test['pitch'] = euler_angle_test[1]\n",
        "X_test['yaw'] = euler_angle_test[2]\n",
        "\n",
        "X_train.head()"
      ],
      "execution_count": 12,
      "outputs": [
        {
          "output_type": "execute_result",
          "data": {
            "text/html": [
              "<div>\n",
              "<style scoped>\n",
              "    .dataframe tbody tr th:only-of-type {\n",
              "        vertical-align: middle;\n",
              "    }\n",
              "\n",
              "    .dataframe tbody tr th {\n",
              "        vertical-align: top;\n",
              "    }\n",
              "\n",
              "    .dataframe thead th {\n",
              "        text-align: right;\n",
              "    }\n",
              "</style>\n",
              "<table border=\"1\" class=\"dataframe\">\n",
              "  <thead>\n",
              "    <tr style=\"text-align: right;\">\n",
              "      <th></th>\n",
              "      <th>row_id</th>\n",
              "      <th>series_id</th>\n",
              "      <th>measurement_number</th>\n",
              "      <th>orientation_X</th>\n",
              "      <th>orientation_Y</th>\n",
              "      <th>orientation_Z</th>\n",
              "      <th>orientation_W</th>\n",
              "      <th>angular_velocity_X</th>\n",
              "      <th>angular_velocity_Y</th>\n",
              "      <th>angular_velocity_Z</th>\n",
              "      <th>linear_acceleration_X</th>\n",
              "      <th>linear_acceleration_Y</th>\n",
              "      <th>linear_acceleration_Z</th>\n",
              "      <th>roll</th>\n",
              "      <th>pitch</th>\n",
              "      <th>yaw</th>\n",
              "    </tr>\n",
              "  </thead>\n",
              "  <tbody>\n",
              "    <tr>\n",
              "      <th>0</th>\n",
              "      <td>0_0</td>\n",
              "      <td>0</td>\n",
              "      <td>0</td>\n",
              "      <td>-0.75853</td>\n",
              "      <td>-0.63435</td>\n",
              "      <td>-0.10488</td>\n",
              "      <td>-0.10597</td>\n",
              "      <td>0.107650</td>\n",
              "      <td>0.017561</td>\n",
              "      <td>0.000767</td>\n",
              "      <td>-0.74857</td>\n",
              "      <td>2.1030</td>\n",
              "      <td>-9.7532</td>\n",
              "      <td>0.285781</td>\n",
              "      <td>-0.024668</td>\n",
              "      <td>0.777626</td>\n",
              "    </tr>\n",
              "    <tr>\n",
              "      <th>1</th>\n",
              "      <td>0_1</td>\n",
              "      <td>0</td>\n",
              "      <td>1</td>\n",
              "      <td>-0.75853</td>\n",
              "      <td>-0.63434</td>\n",
              "      <td>-0.10490</td>\n",
              "      <td>-0.10600</td>\n",
              "      <td>0.067851</td>\n",
              "      <td>0.029939</td>\n",
              "      <td>0.003385</td>\n",
              "      <td>0.33995</td>\n",
              "      <td>1.5064</td>\n",
              "      <td>-9.4128</td>\n",
              "      <td>0.285845</td>\n",
              "      <td>-0.024662</td>\n",
              "      <td>0.777624</td>\n",
              "    </tr>\n",
              "    <tr>\n",
              "      <th>2</th>\n",
              "      <td>0_2</td>\n",
              "      <td>0</td>\n",
              "      <td>2</td>\n",
              "      <td>-0.75853</td>\n",
              "      <td>-0.63435</td>\n",
              "      <td>-0.10492</td>\n",
              "      <td>-0.10597</td>\n",
              "      <td>0.007275</td>\n",
              "      <td>0.028934</td>\n",
              "      <td>-0.005978</td>\n",
              "      <td>-0.26429</td>\n",
              "      <td>1.5922</td>\n",
              "      <td>-8.7267</td>\n",
              "      <td>0.285828</td>\n",
              "      <td>-0.024728</td>\n",
              "      <td>0.777630</td>\n",
              "    </tr>\n",
              "    <tr>\n",
              "      <th>3</th>\n",
              "      <td>0_3</td>\n",
              "      <td>0</td>\n",
              "      <td>3</td>\n",
              "      <td>-0.75852</td>\n",
              "      <td>-0.63436</td>\n",
              "      <td>-0.10495</td>\n",
              "      <td>-0.10597</td>\n",
              "      <td>-0.013053</td>\n",
              "      <td>0.019448</td>\n",
              "      <td>-0.008974</td>\n",
              "      <td>0.42684</td>\n",
              "      <td>1.0993</td>\n",
              "      <td>-10.0960</td>\n",
              "      <td>0.285863</td>\n",
              "      <td>-0.024770</td>\n",
              "      <td>0.777635</td>\n",
              "    </tr>\n",
              "    <tr>\n",
              "      <th>4</th>\n",
              "      <td>0_4</td>\n",
              "      <td>0</td>\n",
              "      <td>4</td>\n",
              "      <td>-0.75852</td>\n",
              "      <td>-0.63435</td>\n",
              "      <td>-0.10495</td>\n",
              "      <td>-0.10596</td>\n",
              "      <td>0.005135</td>\n",
              "      <td>0.007652</td>\n",
              "      <td>0.005245</td>\n",
              "      <td>-0.50969</td>\n",
              "      <td>1.4689</td>\n",
              "      <td>-10.4410</td>\n",
              "      <td>0.285847</td>\n",
              "      <td>-0.024784</td>\n",
              "      <td>0.777626</td>\n",
              "    </tr>\n",
              "  </tbody>\n",
              "</table>\n",
              "</div>"
            ],
            "text/plain": [
              "  row_id  series_id  measurement_number  ...      roll     pitch       yaw\n",
              "0    0_0          0                   0  ...  0.285781 -0.024668  0.777626\n",
              "1    0_1          0                   1  ...  0.285845 -0.024662  0.777624\n",
              "2    0_2          0                   2  ...  0.285828 -0.024728  0.777630\n",
              "3    0_3          0                   3  ...  0.285863 -0.024770  0.777635\n",
              "4    0_4          0                   4  ...  0.285847 -0.024784  0.777626\n",
              "\n",
              "[5 rows x 16 columns]"
            ]
          },
          "metadata": {
            "tags": []
          },
          "execution_count": 12
        }
      ]
    },
    {
      "cell_type": "code",
      "metadata": {
        "id": "-CnSrHcWNUDc",
        "colab_type": "code",
        "outputId": "ca7a8b0c-37c6-4390-a2ab-f0149b4b5202",
        "colab": {
          "base_uri": "https://localhost:8080/",
          "height": 224
        }
      },
      "source": [
        "# Droping the following columns: ['orientation_X', 'orientation_Y', 'orientation_Z', 'orientation_W'] in both testing and training dataset\n",
        "\n",
        "X_train.drop(['orientation_X', 'orientation_Y', 'orientation_Z', 'orientation_W'], axis=1, inplace=True)\n",
        "X_test.drop(['orientation_X', 'orientation_Y', 'orientation_Z', 'orientation_W'], axis=1, inplace=True)\n",
        "X_train.head()"
      ],
      "execution_count": 13,
      "outputs": [
        {
          "output_type": "execute_result",
          "data": {
            "text/html": [
              "<div>\n",
              "<style scoped>\n",
              "    .dataframe tbody tr th:only-of-type {\n",
              "        vertical-align: middle;\n",
              "    }\n",
              "\n",
              "    .dataframe tbody tr th {\n",
              "        vertical-align: top;\n",
              "    }\n",
              "\n",
              "    .dataframe thead th {\n",
              "        text-align: right;\n",
              "    }\n",
              "</style>\n",
              "<table border=\"1\" class=\"dataframe\">\n",
              "  <thead>\n",
              "    <tr style=\"text-align: right;\">\n",
              "      <th></th>\n",
              "      <th>row_id</th>\n",
              "      <th>series_id</th>\n",
              "      <th>measurement_number</th>\n",
              "      <th>angular_velocity_X</th>\n",
              "      <th>angular_velocity_Y</th>\n",
              "      <th>angular_velocity_Z</th>\n",
              "      <th>linear_acceleration_X</th>\n",
              "      <th>linear_acceleration_Y</th>\n",
              "      <th>linear_acceleration_Z</th>\n",
              "      <th>roll</th>\n",
              "      <th>pitch</th>\n",
              "      <th>yaw</th>\n",
              "    </tr>\n",
              "  </thead>\n",
              "  <tbody>\n",
              "    <tr>\n",
              "      <th>0</th>\n",
              "      <td>0_0</td>\n",
              "      <td>0</td>\n",
              "      <td>0</td>\n",
              "      <td>0.107650</td>\n",
              "      <td>0.017561</td>\n",
              "      <td>0.000767</td>\n",
              "      <td>-0.74857</td>\n",
              "      <td>2.1030</td>\n",
              "      <td>-9.7532</td>\n",
              "      <td>0.285781</td>\n",
              "      <td>-0.024668</td>\n",
              "      <td>0.777626</td>\n",
              "    </tr>\n",
              "    <tr>\n",
              "      <th>1</th>\n",
              "      <td>0_1</td>\n",
              "      <td>0</td>\n",
              "      <td>1</td>\n",
              "      <td>0.067851</td>\n",
              "      <td>0.029939</td>\n",
              "      <td>0.003385</td>\n",
              "      <td>0.33995</td>\n",
              "      <td>1.5064</td>\n",
              "      <td>-9.4128</td>\n",
              "      <td>0.285845</td>\n",
              "      <td>-0.024662</td>\n",
              "      <td>0.777624</td>\n",
              "    </tr>\n",
              "    <tr>\n",
              "      <th>2</th>\n",
              "      <td>0_2</td>\n",
              "      <td>0</td>\n",
              "      <td>2</td>\n",
              "      <td>0.007275</td>\n",
              "      <td>0.028934</td>\n",
              "      <td>-0.005978</td>\n",
              "      <td>-0.26429</td>\n",
              "      <td>1.5922</td>\n",
              "      <td>-8.7267</td>\n",
              "      <td>0.285828</td>\n",
              "      <td>-0.024728</td>\n",
              "      <td>0.777630</td>\n",
              "    </tr>\n",
              "    <tr>\n",
              "      <th>3</th>\n",
              "      <td>0_3</td>\n",
              "      <td>0</td>\n",
              "      <td>3</td>\n",
              "      <td>-0.013053</td>\n",
              "      <td>0.019448</td>\n",
              "      <td>-0.008974</td>\n",
              "      <td>0.42684</td>\n",
              "      <td>1.0993</td>\n",
              "      <td>-10.0960</td>\n",
              "      <td>0.285863</td>\n",
              "      <td>-0.024770</td>\n",
              "      <td>0.777635</td>\n",
              "    </tr>\n",
              "    <tr>\n",
              "      <th>4</th>\n",
              "      <td>0_4</td>\n",
              "      <td>0</td>\n",
              "      <td>4</td>\n",
              "      <td>0.005135</td>\n",
              "      <td>0.007652</td>\n",
              "      <td>0.005245</td>\n",
              "      <td>-0.50969</td>\n",
              "      <td>1.4689</td>\n",
              "      <td>-10.4410</td>\n",
              "      <td>0.285847</td>\n",
              "      <td>-0.024784</td>\n",
              "      <td>0.777626</td>\n",
              "    </tr>\n",
              "  </tbody>\n",
              "</table>\n",
              "</div>"
            ],
            "text/plain": [
              "  row_id  series_id  measurement_number  ...      roll     pitch       yaw\n",
              "0    0_0          0                   0  ...  0.285781 -0.024668  0.777626\n",
              "1    0_1          0                   1  ...  0.285845 -0.024662  0.777624\n",
              "2    0_2          0                   2  ...  0.285828 -0.024728  0.777630\n",
              "3    0_3          0                   3  ...  0.285863 -0.024770  0.777635\n",
              "4    0_4          0                   4  ...  0.285847 -0.024784  0.777626\n",
              "\n",
              "[5 rows x 12 columns]"
            ]
          },
          "metadata": {
            "tags": []
          },
          "execution_count": 13
        }
      ]
    },
    {
      "cell_type": "code",
      "metadata": {
        "id": "JDEmze57Pkmz",
        "colab_type": "code",
        "colab": {}
      },
      "source": [
        "num_measurement = 128\n",
        "num_series = X_train['series_id'].nunique()"
      ],
      "execution_count": 0,
      "outputs": []
    },
    {
      "cell_type": "code",
      "metadata": {
        "id": "WiL8TrLKU5va",
        "colab_type": "code",
        "colab": {}
      },
      "source": [
        "# selecting feature column\n",
        "\n",
        "feature_cols = ['angular_velocity_X', 'angular_velocity_Y', 'angular_velocity_Z', 'linear_acceleration_X', \n",
        "               'linear_acceleration_Y', 'linear_acceleration_Z', 'roll', 'pitch', 'yaw']\n",
        "feature_arr = np.array(X_train[feature_cols])\n",
        "\n",
        "# Reshaping the data from 2D to 3D\n",
        "feature_arr = np.reshape(feature_arr, [num_series, num_measurement, len(feature_cols)])"
      ],
      "execution_count": 0,
      "outputs": []
    },
    {
      "cell_type": "code",
      "metadata": {
        "id": "zK78xqQoqTbI",
        "colab_type": "code",
        "colab": {}
      },
      "source": [
        "# calculate the first order differential of the folowing columns: ['roll','pitch','yaw'] \n",
        "euler_cols = ['roll','pitch','yaw']\n",
        "for ec in euler_cols:\n",
        "    iia = feature_cols.index(ec)\n",
        "    np_arr = feature_arr[:,:,iia]\n",
        "    roll_arr = np.copy(np_arr)\n",
        "    roll_arr[:,1:] = roll_arr[:,:-1]\n",
        "    np_arr = np_arr - roll_arr\n",
        "    feature_arr[:,:,iia] = np_arr"
      ],
      "execution_count": 0,
      "outputs": []
    },
    {
      "cell_type": "code",
      "metadata": {
        "id": "hAguuI7L4zNu",
        "colab_type": "code",
        "outputId": "04af669f-d62f-46f2-d8fe-0d5b43ded4ea",
        "colab": {
          "base_uri": "https://localhost:8080/",
          "height": 34
        }
      },
      "source": [
        "# Apply Fourier Transformation to feat_fft_array\n",
        "def absfft(x):\n",
        "    return np.abs(np.fft.rfft(x))\n",
        "\n",
        "feat_fft_array = np.copy(feature_arr[:,:,:6])\n",
        "feat_fft_array = np.apply_along_axis(absfft,1,feat_fft_array)\n",
        "feat_fft_array.shape"
      ],
      "execution_count": 18,
      "outputs": [
        {
          "output_type": "execute_result",
          "data": {
            "text/plain": [
              "(3810, 65, 6)"
            ]
          },
          "metadata": {
            "tags": []
          },
          "execution_count": 18
        }
      ]
    },
    {
      "cell_type": "code",
      "metadata": {
        "id": "ecPs9XwGU_MB",
        "colab_type": "code",
        "colab": {}
      },
      "source": [
        "# Normilise both data set\n",
        "\n",
        "feature_cols = ['angular_velocity_X', 'angular_velocity_Y', 'angular_velocity_Z', 'linear_acceleration_X', \n",
        "               'linear_acceleration_Y', 'linear_acceleration_Z', 'roll','pitch','yaw']\n",
        "for col in feature_cols:\n",
        "    idx = feature_cols.index(col)\n",
        "    np_arr = feature_arr[:,:,idx]\n",
        "    mean_arr = np.mean(np_arr,1)\n",
        "    mean_arr = np.expand_dims(mean_arr,1)\n",
        "    mean_arr = np.repeat(mean_arr,num_measurement,1)\n",
        "    np_arr = np_arr - mean_arr\n",
        "    feature_arr[:,:,idx] = np_arr\n",
        "    \n",
        "sub_feature_cols = ['angular_velocity_X', 'angular_velocity_Y', 'angular_velocity_Z', 'linear_acceleration_X', \n",
        "               'linear_acceleration_Y', 'linear_acceleration_Z']\n",
        "for col in sub_feature_cols:\n",
        "    idx = sub_feature_cols.index(col)\n",
        "    np_arr_f = feat_fft_array[:,:,idx]\n",
        "    mean_arr_f = np.mean(np_arr_f,1)\n",
        "    mean_arr_f = np.expand_dims(mean_arr_f,1)\n",
        "    mean_arr_f = np.repeat(mean_arr_f,65,1)\n",
        "    np_arr_f = np_arr_f - mean_arr_f\n",
        "    feat_fft_array[:,:,idx] = np_arr_f"
      ],
      "execution_count": 0,
      "outputs": []
    },
    {
      "cell_type": "code",
      "metadata": {
        "id": "TNwF1xeIbYrx",
        "colab_type": "code",
        "outputId": "f23f927f-1682-4572-dd60-d0d73ac839aa",
        "colab": {
          "base_uri": "https://localhost:8080/",
          "height": 286
        }
      },
      "source": [
        "% matplotlib inline\n",
        "df = pd.DataFrame(feature_arr[10,:,6:])\n",
        "\n",
        "df = df.cumsum()\n",
        "\n",
        "plt.figure();\n",
        "\n",
        "df.plot();"
      ],
      "execution_count": 20,
      "outputs": [
        {
          "output_type": "display_data",
          "data": {
            "text/plain": [
              "<Figure size 432x288 with 0 Axes>"
            ]
          },
          "metadata": {
            "tags": []
          }
        },
        {
          "output_type": "display_data",
          "data": {
            "image/png": "[encoded data removed]",
            "text/plain": [
              "<Figure size 432x288 with 1 Axes>"
            ]
          },
          "metadata": {
            "tags": []
          }
        }
      ]
    },
    {
      "cell_type": "code",
      "metadata": {
        "id": "hc148pA5rpQ-",
        "colab_type": "code",
        "colab": {}
      },
      "source": [
        "le = LabelEncoder()\n",
        "le.fit(list(y_train[\"surface\"]))\n",
        "y = to_categorical(le.transform(list(y_train[\"surface\"])))"
      ],
      "execution_count": 0,
      "outputs": []
    },
    {
      "cell_type": "code",
      "metadata": {
        "id": "0VBitugKraDn",
        "colab_type": "code",
        "colab": {}
      },
      "source": [
        "def LSTM(drop):\n",
        "    input_data = Input(shape=(128,9))\n",
        "    input_data_fft = Input(shape=(65,6))\n",
        "  \n",
        "    # First Architecture\n",
        "    \n",
        "    x = CuDNNLSTM(units=200, return_sequences=True, return_state=False)(input_data)\n",
        "    x = Dropout(drop)(x)\n",
        "    \n",
        "    x = CuDNNLSTM(units=100, return_sequences=True, return_state=False)(x)\n",
        "    x = Dropout(drop)(x)\n",
        "    \n",
        "    x = CuDNNLSTM(units=50, return_sequences=True, return_state=False)(x)\n",
        "    x = Dropout(drop)(x)\n",
        "    x = CuDNNLSTM(units=50, return_sequences=False, return_state=False)(x)\n",
        "    x = Dropout(drop)(x)\n",
        "    \n",
        "    \n",
        "    x = Dense(80)(x)\n",
        "    x = BatchNormalization()(x)\n",
        "    x = Activation(\"relu\")(x)\n",
        "    x = Dropout(drop)(x)\n",
        "         \n",
        "    x = Dense(40)(x)\n",
        "    x = BatchNormalization()(x)\n",
        "    x = Activation(\"relu\")(x)\n",
        "    x = Dropout(drop)(x)\n",
        "    \n",
        "    x = Dense(20)(x)\n",
        "    x = BatchNormalization()(x)\n",
        "    x = Activation(\"relu\")(x)\n",
        "    x = Dropout(drop)(x)\n",
        "    \n",
        "    # Second Architecture\n",
        "    \n",
        "    x1 = CuDNNLSTM(units=200, return_sequences=True, return_state=False)(input_data_fft)\n",
        "    x1 = Dropout(drop)(x1)\n",
        "    x1 = CuDNNLSTM(units=200, return_sequences=True, return_state=False)(x1)\n",
        "    x1 = Dropout(drop)(x1)\n",
        "    \n",
        "    \n",
        "    x1 = CuDNNLSTM(units=60, return_sequences=True, return_state=False)(input_data_fft)\n",
        "    x1 = Dropout(drop)(x1)\n",
        "    x1 = CuDNNLSTM(units=60, return_sequences=False, return_state=False)(x1)\n",
        "    x1 = Dropout(drop)(x1)\n",
        "    \n",
        "    \n",
        "    x1 = Dense(70)(x1)\n",
        "    x1 = BatchNormalization()(x1)\n",
        "    x1 = Activation(\"relu\")(x1)\n",
        "    x1 = Dropout(drop)(x1)\n",
        "    \n",
        "    x1 = Dense(50)(x1)\n",
        "    x1 = BatchNormalization()(x1)\n",
        "    x1 = Activation(\"relu\")(x1)\n",
        "    x1 = Dropout(drop)(x1)\n",
        "    \n",
        "    x1 = Dense(20)(x1)\n",
        "    x1 = BatchNormalization()(x1)\n",
        "    x1 = Activation(\"relu\")(x1)\n",
        "    x1 = Dropout(drop)(x1)\n",
        "    \n",
        "    x = concatenate([x,x1])\n",
        "    \n",
        "    x = Dense(50)(x)\n",
        "    x = BatchNormalization()(x)\n",
        "    x = Activation(\"relu\")(x)\n",
        "    x = Dropout(drop)(x)\n",
        "    \n",
        "    output = Dense(9, activation=\"softmax\")(x)\n",
        "    \n",
        "    model = Model(inputs= [input_data, input_data_fft], outputs=output)\n",
        "    model.compile(loss='categorical_crossentropy', optimizer=Adam(), metrics=['accuracy'])\n",
        "    \n",
        "    return model"
      ],
      "execution_count": 0,
      "outputs": []
    },
    {
      "cell_type": "code",
      "metadata": {
        "id": "gwF2imD6sm93",
        "colab_type": "code",
        "outputId": "6643e328-1957-4e6d-848b-427ab0fe613c",
        "colab": {
          "base_uri": "https://localhost:8080/",
          "height": 119
        }
      },
      "source": [
        "from sklearn.metrics import *\n",
        "from sklearn.model_selection import *\n",
        "\n",
        "X =  np.copy(feature_arr)\n",
        "X1 = np.copy(feat_fft_array)\n",
        "Y = np.array(list(y_train[\"surface\"]))\n",
        "folds = list(StratifiedKFold(n_splits= 3).split(X, Y))\n",
        "\n",
        "\n",
        "for i, (train_idx, val_idx) in  enumerate(folds):\n",
        "    print(f\"Fold {i+1}\")\n",
        "    model = LSTM(0.5)\n",
        "    model.fit([X[train_idx], X1[train_idx]], y[train_idx], batch_size=65, epochs=200, \n",
        "              validation_data=[[X[val_idx], X1[val_idx]], y[val_idx]], verbose=0)\n",
        "\n",
        "    pred_val = np.argmax(model.predict([X[val_idx], X1[val_idx]]), axis=1)\n",
        "    pred_train = np.argmax(model.predict([X[train_idx], X1[train_idx]]), axis=1)\n",
        "    \n",
        "    score_val = accuracy_score(pred_val, np.argmax(y[val_idx], axis=1))\n",
        "    score_train = accuracy_score(pred_train, np.argmax(y[train_idx], axis=1))\n",
        "    \n",
        "\n",
        "    print(f'Scored {score_train:.3f} on training data, Scored {score_val:.3f} on validation data')\n",
        "\n",
        "\n"
      ],
      "execution_count": 36,
      "outputs": [
        {
          "output_type": "stream",
          "text": [
            "Fold 1\n",
            "Scored 0.579 on training data, Scored 0.284 on validation data\n",
            "Fold 2\n",
            "Scored 0.519 on training data, Scored 0.425 on validation data\n",
            "Fold 3\n",
            "Scored 0.504 on training data, Scored 0.390 on validation data\n"
          ],
          "name": "stdout"
        }
      ]
    }
  ]
}